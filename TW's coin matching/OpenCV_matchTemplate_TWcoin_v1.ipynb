{
 "cells": [
  {
   "cell_type": "code",
   "execution_count": 116,
   "metadata": {},
   "outputs": [],
   "source": [
    "import cv2\n",
    "import numpy as np\n"
   ]
  },
  {
   "cell_type": "code",
   "execution_count": 117,
   "metadata": {},
   "outputs": [
    {
     "name": "stdout",
     "output_type": "stream",
     "text": [
      "tw_1coin\n",
      "tw_5coin\n",
      "tw_10coin\n"
     ]
    }
   ],
   "source": [
    "# 讀取圖像和模板\n",
    "img_rgb = cv2.imread('twcoin.jpg')\n",
    "# img = cv2.imread('tw_coin_01.jpg')\n",
    "# img_rgb = cv2.resize(img, (640, 480))\n",
    "# img = cv2.imread('tw_coin_01.png')\n",
    "# img_rgb = cv2.resize(img, (640, 480))\n",
    "tw_1coin = cv2.imread('tw_1coin.png', 1)\n",
    "tw_5coin = cv2.imread('tw_5coin.png', 1)\n",
    "tw_10coin = cv2.imread('tw_10coin.png', 1)\n",
    "coin_list = {'tw_1coin':tw_1coin, 'tw_5coin':tw_5coin, 'tw_10coin':tw_10coin}\n",
    "coin_count = {}\n",
    "for name,coin_Value in coin_list.items():\n",
    "    print(name)\n"
   ]
  },
  {
   "cell_type": "markdown",
   "metadata": {},
   "source": []
  },
  {
   "cell_type": "code",
   "execution_count": 118,
   "metadata": {},
   "outputs": [
    {
     "name": "stdout",
     "output_type": "stream",
     "text": [
      "tw_1coin : 0\n",
      "tw_5coin : 0\n",
      "tw_10coin : 0\n",
      "{'tw_1coin': 0, 'tw_5coin': 0, 'tw_10coin': 0}\n"
     ]
    }
   ],
   "source": [
    "for name,coin_Value in coin_list.items():\n",
    "    h, w, _ = coin_Value.shape[::]\n",
    "    # 進行模板匹配\n",
    "    # res = cv2.matchTemplate(img_rgb, coin_Value, cv2.TM_SQDIFF) #|平方差匹配     |TM_SQDIFF        |1 |minVal|\n",
    "    # res = cv2.matchTemplate(img_rgb, coin_Value, cv2.TM_SQDIFF_NORMED) #|標準平方差匹配 |TM_SQDIFF_NORMED |2 |minVal|\n",
    "    # res = cv2.matchTemplate(img_rgb, coin_Value, cv2.TM_CCORR) #|相關匹配       |TM_CCORR         |3 |maxVal|\n",
    "    # res = cv2.matchTemplate(img_rgb, coin_Value, cv2.TM_CCORR_NORMED) #|標準相關匹配   |TM_CCORR_NORMED  |4 |maxVal|\n",
    "    # res = cv2.matchTemplate(img_rgb, coin_Value, cv2.TM_CCOEFF) #|相關匹配       |TM_CCOEFF        |5 |maxVal|\n",
    "    res = cv2.matchTemplate(img_rgb, coin_Value, cv2.TM_CCOEFF_NORMED) #|標準相關匹配   |TM_CCOEFF_NORMED |6 |-1 ~ 1 (maxVal)|\n",
    "  \n",
    "    # 設定閾值\n",
    "    threshold = .80\n",
    "    loc = np.where(res >= threshold)\n",
    "    \n",
    "    count = 0 # 初始化框選的數量\n",
    "    pt_temp=[]\n",
    "    for idx, pt in enumerate(zip(*loc[::-1])):\n",
    "        # print(f'match rectangle top_left : {pt}')\n",
    "        check = 0\n",
    "        for i in pt_temp:\n",
    "            if abs(i[0] -pt[0]) < 50 and abs(i[1]-pt[1]) < 50:\n",
    "                print(f\" {i[0]},{pt[0]} and {i[1]},{pt[1]}\")\n",
    "                check = 1\n",
    "                break \n",
    "            \n",
    "        if check == 1:\n",
    "            continue\n",
    "        # print(f\"{pt[0]} : {pt[1]}\")\n",
    "        cv2.rectangle(img_rgb, pt, (pt[0]+w, pt[1]+h), (0, 255, 255), 2)\n",
    "        pt_temp.append([pt[0],pt[1]])\n",
    "        print(pt_temp)\n",
    "        \n",
    "        count += 1\n",
    "        \n",
    "    coin_count[name]=count  \n",
    "    print(f\"{name} : {count}\")  \n",
    "print(coin_count)"
   ]
  },
  {
   "cell_type": "markdown",
   "metadata": {},
   "source": [
    "設定putText 相關參數\n",
    "\n",
    "Set the parameters for putText"
   ]
  },
  {
   "cell_type": "code",
   "execution_count": 119,
   "metadata": {},
   "outputs": [
    {
     "name": "stdout",
     "output_type": "stream",
     "text": [
      "Get the tw_1coin number of matches: 0\n",
      "Get the tw_5coin number of matches: 0\n",
      "Get the tw_10coin number of matches: 0\n"
     ]
    }
   ],
   "source": [
    "fontScale = 1 #  color = (0, 255, 0) #  thickness = 2 #  lineType = cv2.LINE_AA # \n",
    "\n",
    "\n",
    "org_x = 10 #文字左下角的坐標 Coordinate of the bottom left corner of the text\n",
    "org_y = 30#文字左下角的坐標 Coordinate of the bottom left corner of the text\n",
    "fontFace = cv2.FONT_HERSHEY_SIMPLEX #文字的字體 Font of the text\n",
    "fontScale = 0.5 #文字的大小 Size of the text\n",
    "color = (0, 0, 0) #文字的顏色 Color of the text\n",
    "thickness = 1 #文字的粗細 Thickness of the text\n",
    "lineType = cv2.LINE_AA #文字的線條類型 Line type of the text\n",
    "\n",
    "for coin_name,coin_count in coin_count.items():\n",
    "\n",
    "    cv2.putText(img_rgb, f'Get the {coin_name} number of matches: {count}', (org_x, org_y),fontFace, fontScale, color, thickness, lineType)\n",
    "    org_y += 30\n",
    "    # 顯示結果\n",
    "    print( f'Get the {coin_name} number of matches: {count}')"
   ]
  },
  {
   "cell_type": "code",
   "execution_count": 120,
   "metadata": {},
   "outputs": [],
   "source": [
    "# 顯示檢查完成的照片\n",
    "cv2.imshow('Detected', img_rgb)\n",
    "cv2.waitKey(0)\n",
    "cv2.destroyAllWindows()"
   ]
  }
 ],
 "metadata": {
  "kernelspec": {
   "display_name": "OpenC_py39-a",
   "language": "python",
   "name": "python3"
  },
  "language_info": {
   "codemirror_mode": {
    "name": "ipython",
    "version": 3
   },
   "file_extension": ".py",
   "mimetype": "text/x-python",
   "name": "python",
   "nbconvert_exporter": "python",
   "pygments_lexer": "ipython3",
   "version": "3.9.18"
  }
 },
 "nbformat": 4,
 "nbformat_minor": 2
}
