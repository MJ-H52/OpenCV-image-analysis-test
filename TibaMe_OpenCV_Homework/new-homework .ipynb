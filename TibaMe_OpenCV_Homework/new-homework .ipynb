{
 "cells": [
  {
   "cell_type": "markdown",
   "metadata": {},
   "source": [
    "# openCV 作業：\n",
    "* 題目 ：請找一段約一分鐘左右的影片，利用上課時學過的影像處理功能，發揮所有創意和想像，將該影片加工特效，產生一段新影片，怕誤解同學的創意，請將你的亮點盡可能寫在影片中的右下角\n",
    "\n",
    "* 上傳 ：導師會有告訴同學上傳空間, 或可上傳到Youtube 或自己的雲端空間, 把連結給老師(依導師規範為準)\n",
    "\n",
    "* 繳交日期 ：課後二週\n",
    "\n",
    "* 評分 ：亮點愈亮，創意愈多，分數愈高 \n",
    "\n",
    "* 參考 :<br>\n",
    "https://www.youtube.com/watch?v=Fszu0L1JtqM"
   ]
  },
  {
   "cell_type": "markdown",
   "metadata": {},
   "source": [
    "加入特效"
   ]
  },
  {
   "cell_type": "code",
   "execution_count": 1,
   "metadata": {},
   "outputs": [],
   "source": [
    "import cv2\n",
    "import dlib\n",
    "import numpy as np"
   ]
  },
  {
   "cell_type": "code",
   "execution_count": 2,
   "metadata": {},
   "outputs": [],
   "source": [
    "# 读取视频\n",
    "cap = cv2.VideoCapture('Alec_Baldwin.mp4')\n",
    "if not cap.isOpened():\n",
    "    raise ValueError(\"影片無法開啟\")"
   ]
  },
  {
   "cell_type": "code",
   "execution_count": 3,
   "metadata": {},
   "outputs": [
    {
     "name": "stdout",
     "output_type": "stream",
     "text": [
      "fps : 30.00 f/s, total_frames : 2803.0\n"
     ]
    }
   ],
   "source": [
    "fps = cap.get(cv2.CAP_PROP_FPS)              \n",
    "total_frames = cap.get(cv2.CAP_PROP_FRAME_COUNT)   \n",
    "# F_Count = cap.get(6) #用代號也是可以\n",
    "print(f'fps : {fps:.2f} f/s, total_frames : {total_frames}')\n"
   ]
  },
  {
   "cell_type": "code",
   "execution_count": 4,
   "metadata": {},
   "outputs": [
    {
     "name": "stdout",
     "output_type": "stream",
     "text": [
      "width = 1280 , height = 720\n"
     ]
    }
   ],
   "source": [
    "width = int(cap.get(cv2.CAP_PROP_FRAME_WIDTH))\n",
    "height = int(cap.get(cv2.CAP_PROP_FRAME_HEIGHT))\n",
    "# fps = 30\n",
    "fourcc = cv2.VideoWriter_fourcc(*'XVID') \n",
    "# frames_for_10_seconds = 10 * fps\n",
    "print(f\"width = {width} , height = {height}\")"
   ]
  },
  {
   "cell_type": "code",
   "execution_count": 5,
   "metadata": {},
   "outputs": [],
   "source": [
    "out_video = cv2.VideoWriter('SFX_Alec_Baldwin.mp4', fourcc, fps, (width, height))"
   ]
  },
  {
   "cell_type": "code",
   "execution_count": 6,
   "metadata": {},
   "outputs": [],
   "source": [
    "# effects = [\"Original_effect\", \"grayscale_effect\", \"blur_effect\", \"canny_effect\", \"gaussian_effect\", \"flip_effect\",\"cvtColor_effect\"]\n"
   ]
  },
  {
   "cell_type": "code",
   "execution_count": 7,
   "metadata": {},
   "outputs": [],
   "source": [
    "org_x = 50 #文字左下角的坐標\n",
    "org_y = 50 #文字左下角的坐標\n",
    "fontFace = cv2.FONT_HERSHEY_SIMPLEX #文字的字體\n",
    "fontScale = 1 #文字的大小\n",
    "color = (0, 255, 0) #文字的顏色\n",
    "thickness = 2 #文字的粗細\n",
    "lineType = cv2.LINE_AA #文字的線條類型\n"
   ]
  },
  {
   "cell_type": "code",
   "execution_count": 8,
   "metadata": {},
   "outputs": [],
   "source": [
    "def Original_effect(frame):\n",
    "    out_frame = cv2.putText(frame, 'Original_effect', (org_x, org_y),fontFace, fontScale, color, thickness, lineType)\n",
    "    return out_frame"
   ]
  },
  {
   "cell_type": "code",
   "execution_count": 9,
   "metadata": {},
   "outputs": [],
   "source": [
    "def grayscale_effect(frame):\n",
    "    gray = cv2.cvtColor(frame, cv2.COLOR_BGR2GRAY)\n",
    "    frame = cv2.cvtColor(gray, cv2.COLOR_GRAY2BGR)\n",
    "    \n",
    "    cv2.putText(frame, f'{cap.get(cv2.CAP_PROP_POS_FRAMES):.0f} frames, {cap.get(cv2.CAP_PROP_POS_MSEC):.0f} ms', (50, 700), fontFace, fontScale, color, thickness, lineType)\n",
    "    cv2.putText(frame, 'grayscale_effect', (org_x, org_y),fontFace, fontScale, color, thickness, lineType)\n",
    "    return frame"
   ]
  },
  {
   "cell_type": "code",
   "execution_count": 10,
   "metadata": {},
   "outputs": [],
   "source": [
    "def blur_effect(frame):\n",
    "    frame = cv2.blur(frame, (5,5))\n",
    "    \n",
    "    cv2.putText(frame, f'{cap.get(cv2.CAP_PROP_POS_FRAMES):.0f} frames, {cap.get(cv2.CAP_PROP_POS_MSEC):.0f} ms', (50, 700), fontFace, fontScale, color, thickness, lineType)\n",
    "    cv2.putText(frame, 'blur_effect', (org_x, org_y),fontFace, fontScale, color, thickness, lineType)\n",
    "    return frame"
   ]
  },
  {
   "cell_type": "code",
   "execution_count": 11,
   "metadata": {},
   "outputs": [],
   "source": [
    "def canny_effect(frame):\n",
    "    gray = cv2.cvtColor(frame, cv2.COLOR_BGR2GRAY)\n",
    "    canny_frame = cv2.Canny(frame, 100, 200)\n",
    "    frame = cv2.cvtColor(canny_frame, cv2.COLOR_GRAY2BGR)\n",
    "    \n",
    "    cv2.putText(frame, f'{cap.get(cv2.CAP_PROP_POS_FRAMES):.0f} frames, {cap.get(cv2.CAP_PROP_POS_MSEC):.0f} ms', (50, 700), fontFace, fontScale, color, thickness, lineType)\n",
    "    cv2.putText(frame, 'canny_effect', (org_x, org_y),fontFace, fontScale, color, thickness, lineType)\n",
    "    return frame"
   ]
  },
  {
   "cell_type": "code",
   "execution_count": 12,
   "metadata": {},
   "outputs": [],
   "source": [
    "def GaussianBlur_effect(frame):\n",
    "    frame = cv2.GaussianBlur(frame, (15, 15), 0)\n",
    "    \n",
    "    cv2.putText(frame, f'{cap.get(cv2.CAP_PROP_POS_FRAMES):.0f} frames, {cap.get(cv2.CAP_PROP_POS_MSEC):.0f} ms', (50, 700), fontFace, fontScale, color, thickness, lineType)\n",
    "    cv2.putText(frame, 'GaussianBlur_effect', (org_x, org_y),fontFace, fontScale, color, thickness, lineType)\n",
    "    return frame"
   ]
  },
  {
   "cell_type": "code",
   "execution_count": 13,
   "metadata": {},
   "outputs": [],
   "source": [
    "def flip_effect(frame):\n",
    "    frame = cv2.flip(frame, 0)\n",
    "    \n",
    "    cv2.putText(frame, f'{cap.get(cv2.CAP_PROP_POS_FRAMES):.0f} frames, {cap.get(cv2.CAP_PROP_POS_MSEC):.0f} ms', (50, 700), fontFace, fontScale, color, thickness, lineType)\n",
    "    cv2.putText(frame, 'flip_effect', (org_x, org_y),fontFace, fontScale, color, thickness, lineType)\n",
    "    return frame"
   ]
  },
  {
   "cell_type": "code",
   "execution_count": 14,
   "metadata": {},
   "outputs": [],
   "source": [
    "def cvtColor_effect(frame):\n",
    "    frame = cv2.cvtColor(frame, cv2.COLOR_BGR2GRAY)\n",
    "    \n",
    "    cv2.putText(frame, f'{cap.get(cv2.CAP_PROP_POS_FRAMES):.0f} frames, {cap.get(cv2.CAP_PROP_POS_MSEC):.0f} ms', (50, 700), fontFace, fontScale, color, thickness, lineType)\n",
    "    cv2.putText(frame, 'cvtColor_effect', (org_x, org_y),fontFace, fontScale, color, thickness, lineType)\n",
    "    return frame"
   ]
  },
  {
   "cell_type": "code",
   "execution_count": 15,
   "metadata": {},
   "outputs": [],
   "source": [
    "def gradient_effect(frame):\n",
    "    kernel = np.ones((3, 3), np.uint8)  # 卷積核\n",
    "    frame = cv2.morphologyEx(frame, cv2.MORPH_GRADIENT, kernel)  # 形態學梯度\n",
    "    \n",
    "    cv2.putText(frame, f'{cap.get(cv2.CAP_PROP_POS_FRAMES):.0f} frames, {cap.get(cv2.CAP_PROP_POS_MSEC):.0f} ms', (50, 700), fontFace, fontScale, color, thickness, lineType)\n",
    "    cv2.putText(frame, 'gradient_effect', (org_x, org_y),fontFace, fontScale, color, thickness, lineType)\n",
    "    return frame"
   ]
  },
  {
   "cell_type": "code",
   "execution_count": 16,
   "metadata": {},
   "outputs": [],
   "source": [
    "def sift_effect(frame):\n",
    "    sift = cv2.xfeatures2d.SIFT_create()    # create object\n",
    "    # sift = cv2.SIFT_create()\n",
    "    kp = sift.detect(frame, None)\n",
    "    frame = cv2.drawKeypoints(frame, kp, None, flags=cv2.DRAW_MATCHES_FLAGS_DRAW_RICH_KEYPOINTS)   # output to 'img'\n",
    "    \n",
    "    cv2.putText(frame, f'{cap.get(cv2.CAP_PROP_POS_FRAMES):.0f} frames, {cap.get(cv2.CAP_PROP_POS_MSEC):.0f} ms', (50, 700), fontFace, fontScale, color, thickness, lineType)\n",
    "    cv2.putText(frame, 'sift_effect', (org_x, org_y),fontFace, fontScale, color, thickness, lineType)    \n",
    "    return frame"
   ]
  },
  {
   "cell_type": "code",
   "execution_count": 17,
   "metadata": {},
   "outputs": [],
   "source": [
    "def cascade_face_effect(frame):\n",
    "\n",
    "    # img = cv2.imread('image.jpg')\n",
    "\n",
    "    # 转换为灰度图像\n",
    "    # gray = cv2.cvtColor(frame, cv2.COLOR_BGR2GRAY)\n",
    "\n",
    "    # 加载人脸检测模型\n",
    "    face_cascade = cv2.CascadeClassifier('haarcascade_frontalface_default.xml')\n",
    "\n",
    "    # 检测人脸\n",
    "    faces = face_cascade.detectMultiScale(frame)\n",
    "\n",
    "    # 在原始图像上画出每个检测到的人脸的位置\n",
    "    for (x, y, w, h) in faces:\n",
    "        frame = cv2.rectangle(frame, (x, y), (x+w, y+h), (0, 255, 0), 2)\n",
    "        \n",
    "        cv2.putText(frame, f'{cap.get(cv2.CAP_PROP_POS_FRAMES):.0f} frames, {cap.get(cv2.CAP_PROP_POS_MSEC):.0f} ms', (50, 700), fontFace, fontScale, color, thickness, lineType)\n",
    "        cv2.putText(frame,'cascade_face_effect', (org_x, org_y),fontFace, fontScale, color, thickness, lineType)    \n",
    "        return frame"
   ]
  },
  {
   "cell_type": "code",
   "execution_count": 18,
   "metadata": {},
   "outputs": [],
   "source": [
    "def dlib_face_effect(frame):\n",
    "    detector = dlib.get_frontal_face_detector()  # Dlib 的人臉偵測器\n",
    "\n",
    "    face_rects = detector(frame, 1)   # try (img, 1)   # 偵測人臉\n",
    "\n",
    "    # 取出所有偵測的結果\n",
    "    for i, d in enumerate(face_rects):\n",
    "        x1, y1, x2, y2 = d.left(), d.top(), d.right(), d.bottom()\n",
    "        frame = cv2.rectangle(frame, (x1, y1), (x2, y2), (0, 255, 0), 4, cv2.LINE_AA)  # 以方框標示偵測的人臉\n",
    "        # face_effect = cv2.putText(frame, f'{i}', (x1, y1-10), 0, .7, (0, 255, 0), 2, 16)\n",
    "        \n",
    "        cv2.putText(frame, f'{cap.get(cv2.CAP_PROP_POS_FRAMES):.0f} frames, {cap.get(cv2.CAP_PROP_POS_MSEC):.0f} ms', (50, 700), fontFace, fontScale, color, thickness, lineType)\n",
    "        cv2.putText(frame,'dlib_face_effect', (org_x, org_y),fontFace, fontScale, color, thickness, lineType)    \n",
    "        return frame"
   ]
  },
  {
   "cell_type": "code",
   "execution_count": 19,
   "metadata": {},
   "outputs": [],
   "source": [
    "#特效list\n",
    "effects_functions = [Original_effect, grayscale_effect, blur_effect, canny_effect, GaussianBlur_effect, flip_effect,cvtColor_effect,gradient_effect,sift_effect,dlib_face_effect,cascade_face_effect,Original_effect]"
   ]
  },
  {
   "cell_type": "code",
   "execution_count": null,
   "metadata": {},
   "outputs": [],
   "source": []
  },
  {
   "cell_type": "code",
   "execution_count": 20,
   "metadata": {},
   "outputs": [],
   "source": [
    "frames_per_section = total_frames // len(effects_functions)\n",
    "effect_index = 0\n",
    "frame_counter = 0"
   ]
  },
  {
   "cell_type": "code",
   "execution_count": 21,
   "metadata": {},
   "outputs": [
    {
     "data": {
      "text/plain": [
       "233.0"
      ]
     },
     "execution_count": 21,
     "metadata": {},
     "output_type": "execute_result"
    }
   ],
   "source": [
    "frames_per_section\n",
    "# len(effects_functions)"
   ]
  },
  {
   "cell_type": "code",
   "execution_count": 22,
   "metadata": {},
   "outputs": [
    {
     "name": "stdout",
     "output_type": "stream",
     "text": [
      "Frame is empty: True\n",
      "Frame is empty: True\n",
      "Frame is empty: True\n",
      "Frame is empty: True\n",
      "Frame is empty: True\n",
      "Frame is empty: True\n",
      "Frame is empty: True\n",
      "Frame is empty: True\n",
      "Frame is empty: True\n",
      "Frame is empty: True\n",
      "Frame is empty: True\n",
      "Frame is empty: True\n",
      "Frame is empty: True\n",
      "Frame is empty: True\n",
      "Frame is empty: True\n",
      "Frame is empty: True\n",
      "Frame is empty: True\n",
      "Frame is empty: True\n",
      "Frame is empty: True\n",
      "Frame is empty: True\n"
     ]
    },
    {
     "data": {
      "text/plain": [
       "-1"
      ]
     },
     "execution_count": 22,
     "metadata": {},
     "output_type": "execute_result"
    }
   ],
   "source": [
    "while cap.isOpened():\n",
    "    ret, frame = cap.read()\n",
    "    if not ret:\n",
    "        break\n",
    "    \n",
    "    frame = effects_functions[effect_index](frame)\n",
    "    out_video.write(frame)\n",
    "    if frame is not None:\n",
    "        cv2.imshow('Effect_Video', frame)\n",
    "    else:\n",
    "        print(\"Frame is empty:\", str(ret) )\n",
    "\n",
    "\n",
    "    frame_counter += 1\n",
    "    if frame_counter >= frames_per_section and effect_index < len(effects_functions) - 1:\n",
    "        effect_index += 1\n",
    "        frame_counter = 0\n",
    "    \n",
    "    if cv2.waitKey(1) & 0xFF == ord('q'):\n",
    "        break\n",
    "        \n",
    "photo_path = \"new_frame1 .jpg\"\n",
    "photo = cv2.imread(photo_path)\n",
    "\n",
    "for _ in range(150):\n",
    "    out_video.write(photo)\n",
    "        \n",
    "        \n",
    "out_video.release()\n",
    "cap.release() #清掉記憶體\n",
    "cv2.destroyAllWindows()\n",
    "cv2.waitKey(1)"
   ]
  }
 ],
 "metadata": {
  "kernelspec": {
   "display_name": "OpenC_py39-a",
   "language": "python",
   "name": "python3"
  },
  "language_info": {
   "codemirror_mode": {
    "name": "ipython",
    "version": 3
   },
   "file_extension": ".py",
   "mimetype": "text/x-python",
   "name": "python",
   "nbconvert_exporter": "python",
   "pygments_lexer": "ipython3",
   "version": "3.9.18"
  }
 },
 "nbformat": 4,
 "nbformat_minor": 4
}
