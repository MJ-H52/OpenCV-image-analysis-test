{
 "cells": [
  {
   "cell_type": "code",
   "execution_count": null,
   "metadata": {},
   "outputs": [],
   "source": [
    "import cv2\n",
    "import numpy as np\n",
    "\n",
    "# 讀取圖像和模板\n",
    "img_rgb = cv2.imread('./image/mario.jpg')\n",
    "# img_gray = cv2.cvtColor(img_rgb, cv2.COLOR_BGR2GRAY)\n",
    "template = cv2.imread('./image/marioCoin.jpg', 1)\n",
    "h, w, _ = template.shape[::]\n",
    "\n",
    "# 進行模板匹配\n",
    "# res = cv2.matchTemplate(img_rgb, template, cv2.TM_CCOEFF_NORMED)\n",
    "# res = cv2.matchTemplate(img_rgb, template, cv2.TM_SQDIFF) #|平方差匹配     |TM_SQDIFF        |1 |minVal|\n",
    "# res = cv2.matchTemplate(img_rgb, template, cv2.TM_SQDIFF_NORMED) #|標準平方差匹配 |TM_SQDIFF_NORMED |2 |minVal|\n",
    "# res = cv2.matchTemplate(img_rgb, template, cv2.TM_CCORR) #|相關匹配       |TM_CCORR         |3 |maxVal|\n",
    "# res = cv2.matchTemplate(img_rgb, template, cv2.TM_CCORR_NORMED) #|標準相關匹配   |TM_CCORR_NORMED  |4 |maxVal|\n",
    "# res = cv2.matchTemplate(img_rgb, template, cv2.TM_CCOEFF) #|相關匹配       |TM_CCOEFF        |5 |maxVal|\n",
    "# res = cv2.matchTemplate(img_rgb, template, cv2.TM_CCOEFF_NORMED) #|標準相關匹配   |TM_CCOEFF_NORMED |6 |-1 ~ 1 (maxVal)|\n",
    "\n",
    "\n",
    "# 設定閾值\n",
    "threshold = .80\n",
    "loc = np.where(res >= threshold)\n",
    "\n",
    "# 創建一個用於標記是否已經被框選的二維陣列\n",
    "marked = np.zeros_like(res, dtype=bool)\n",
    "\n",
    "# 初始化框選的數量\n",
    "count = 0\n",
    "\n",
    "# 遍歷所有匹配的位置\n",
    "for pt in zip(*loc[::-1]):\n",
    "    # 檢查此位置是否已經被框選\n",
    "    if not marked[pt[1]][pt[0]]:\n",
    "        # 框選此位置\n",
    "        cv2.rectangle(img_rgb, pt, (pt[0] + w, pt[1] + h), (0, 0, 255), 2)\n",
    "        # 標記此位置及其周邊區域為已經被框選\n",
    "        marked[pt[1]:pt[1]+h, pt[0]:pt[0]+w] = True\n",
    "        # 增加框選的數量\n",
    "        count += 1\n",
    "\n",
    "# 顯示結果\n",
    "cv2.imshow('Detected', img_rgb)\n",
    "cv2.waitKey(0)\n",
    "cv2.destroyAllWindows()\n",
    "\n",
    "# 打印框選的數量\n",
    "print('Number of boxes:', count)"
   ]
  }
 ],
 "metadata": {
  "language_info": {
   "name": "python"
  }
 },
 "nbformat": 4,
 "nbformat_minor": 2
}
